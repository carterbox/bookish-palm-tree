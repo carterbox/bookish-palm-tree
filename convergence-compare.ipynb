{
 "cells": [
  {
   "cell_type": "markdown",
   "metadata": {},
   "source": [
    "# Convergence comparison of ptycho algorithms\n",
    "\n",
    "## Introduction\n",
    "\n",
    "In this notebook, we are comparing the convergence of the three ptycho reconstruction algorithms: admm, combined, divided. The ADMM approach solves the ptychography nearplane, farplane, probe, and object subproblems jointly using ADMM. The divded approach solves each of the subproblems sequentially, but without regularization. The combined problem solves the object and probe subproblems with the nearplane and farplane problems integated.\n",
    "\n",
    "We will plot the convergence of each these algorithms using various metrics including:\n",
    "\n",
    "* primal residuals\n",
    "* dual residuals\n",
    "* augmented lagrangian\n",
    "* relative error (to previous iteration) for all subproblems\n",
    "\n",
    "## Convergence metrics\n",
    "\n",
    "In this section, we define helper functions to compute all the convergence metrics."
   ]
  },
  {
   "cell_type": "code",
   "execution_count": 2,
   "metadata": {},
   "outputs": [],
   "source": [
    "import numpy as np"
   ]
  },
  {
   "cell_type": "code",
   "execution_count": 3,
   "metadata": {},
   "outputs": [],
   "source": [
    "def constraint_farplane(operator, nearplane, farplane, **kwargs):\n",
    "    return operator.propagation.fwd(nearplane) - farplane\n",
    "\n",
    "def primal_farplane(operator, nearplane, farplane, **kwargs):\n",
    "    return np.linalg.norm(constraint_farplane(operator, nearplane, farplane))**2\n",
    "\n",
    "def constraint_nearplane(operator, probe, psi, nearplane, scan, **kwargs):\n",
    "    return operator.diffraction.fwd(probe=probe, psi=psi, scan=scan) - nearplane\n",
    "\n",
    "def primal_nearplane(operator, probe, psi, nearplane, **kwargs):\n",
    "    return np.linalg.norm(constraint_nearplane(operator, probe, psi, nearplane, **kwargs))**2"
   ]
  },
  {
   "cell_type": "code",
   "execution_count": 4,
   "metadata": {},
   "outputs": [],
   "source": [
    "# dual residuals are same as relative error for farplane and nearplane?"
   ]
  },
  {
   "cell_type": "code",
   "execution_count": 5,
   "metadata": {},
   "outputs": [],
   "source": [
    "data_frames = np.load('data.npy')\n",
    "def augmented_lagrangian(operator, farplane, nearplane, psi, probe, λ, μ, ρ, τ, **kwargs):\n",
    "    return (\n",
    "        + operator.propagation.cost(data_frames, farplane)\n",
    "        + 2 * np.sum(np.real(np.conj(λ) * constraint_farplane(operator, nearplane, farplane, **kwargs)))\n",
    "        + ρ * primal_farplane(operator, nearplane, farplane, **kwargs)\n",
    "        + 2 * np.sum(np.real(np.conj(μ) * constraint_nearplane(operator, probe, psi, nearplane, **kwargs)))\n",
    "        + τ * primal_nearplane(operator, probe, psi, nearplane, **kwargs)\n",
    "    )"
   ]
  },
  {
   "cell_type": "code",
   "execution_count": 6,
   "metadata": {},
   "outputs": [],
   "source": [
    "def relative_error(x0, x1):\n",
    "    return np.linalg.norm(x0 - x1)**2 / np.linalg.norm(x0)**2"
   ]
  },
  {
   "cell_type": "markdown",
   "metadata": {},
   "source": [
    "## Compute the metrics\n",
    "\n",
    "In this section, we load the data from the disk and compute the metrics."
   ]
  },
  {
   "cell_type": "code",
   "execution_count": 7,
   "metadata": {},
   "outputs": [],
   "source": [
    "import tike.operators\n",
    "op = tike.operators.Ptycho(\n",
    "    detector_shape=15*2,\n",
    "    probe_shape=15,\n",
    "    nscan=21*21,\n",
    "    nz=128,\n",
    "    n=128,\n",
    ")"
   ]
  },
  {
   "cell_type": "code",
   "execution_count": 8,
   "metadata": {
    "scrolled": true
   },
   "outputs": [
    {
     "name": "stdout",
     "output_type": "stream",
     "text": [
      "admm.000.npz\n",
      "admm.001.npz\n",
      "admm.002.npz\n",
      "admm.003.npz\n",
      "admm.004.npz\n",
      "admm.005.npz\n",
      "admm.006.npz\n",
      "admm.007.npz\n",
      "admm.008.npz\n",
      "admm.009.npz\n",
      "admm.010.npz\n",
      "admm.012.npz\n",
      "admm.013.npz\n",
      "admm.015.npz\n",
      "admm.016.npz\n",
      "admm.018.npz\n",
      "admm.021.npz\n",
      "admm.023.npz\n",
      "admm.026.npz\n",
      "admm.029.npz\n",
      "admm.033.npz\n",
      "admm.037.npz\n",
      "admm.041.npz\n",
      "admm.046.npz\n",
      "admm.052.npz\n",
      "admm.058.npz\n",
      "admm.065.npz\n",
      "admm.073.npz\n",
      "admm.082.npz\n",
      "admm.092.npz\n",
      "admm.103.npz\n",
      "admm.115.npz\n",
      "admm.129.npz\n",
      "admm.145.npz\n",
      "admm.162.npz\n",
      "admm.182.npz\n",
      "admm.204.npz\n",
      "admm.228.npz\n",
      "admm.256.npz\n",
      "combined.000.npz\n",
      "combined.001.npz\n",
      "combined.002.npz\n",
      "combined.003.npz\n",
      "combined.004.npz\n",
      "combined.005.npz\n",
      "combined.006.npz\n",
      "combined.007.npz\n",
      "combined.008.npz\n",
      "combined.009.npz\n",
      "combined.010.npz\n",
      "combined.012.npz\n",
      "combined.013.npz\n",
      "combined.015.npz\n",
      "combined.016.npz\n",
      "combined.018.npz\n",
      "combined.021.npz\n",
      "combined.023.npz\n",
      "combined.026.npz\n",
      "combined.029.npz\n",
      "combined.033.npz\n",
      "combined.037.npz\n",
      "combined.041.npz\n",
      "combined.046.npz\n",
      "combined.052.npz\n",
      "combined.058.npz\n",
      "combined.065.npz\n",
      "combined.073.npz\n",
      "combined.082.npz\n",
      "combined.092.npz\n",
      "combined.103.npz\n",
      "combined.115.npz\n",
      "combined.129.npz\n",
      "combined.145.npz\n",
      "combined.162.npz\n",
      "combined.182.npz\n",
      "combined.204.npz\n",
      "combined.228.npz\n",
      "combined.256.npz\n",
      "divided.000.npz\n",
      "divided.001.npz\n",
      "divided.002.npz\n",
      "divided.003.npz\n",
      "divided.004.npz\n",
      "divided.005.npz\n",
      "divided.006.npz\n",
      "divided.007.npz\n",
      "divided.008.npz\n",
      "divided.009.npz\n",
      "divided.010.npz\n"
     ]
    },
    {
     "ename": "KeyError",
     "evalue": "'time is not a file in the archive'",
     "output_type": "error",
     "traceback": [
      "\u001b[1;31m---------------------------------------------------------------------------\u001b[0m",
      "\u001b[1;31mKeyError\u001b[0m                                  Traceback (most recent call last)",
      "\u001b[1;32m<ipython-input-8-813db49780fb>\u001b[0m in \u001b[0;36m<module>\u001b[1;34m\u001b[0m\n\u001b[0;32m     25\u001b[0m \u001b[1;33m\u001b[0m\u001b[0m\n\u001b[0;32m     26\u001b[0m         \u001b[1;32mif\u001b[0m \u001b[0mi\u001b[0m \u001b[1;33m>\u001b[0m \u001b[1;36m0\u001b[0m\u001b[1;33m:\u001b[0m\u001b[1;33m\u001b[0m\u001b[1;33m\u001b[0m\u001b[0m\n\u001b[1;32m---> 27\u001b[1;33m             \u001b[0mwall_time\u001b[0m \u001b[1;33m+=\u001b[0m \u001b[0mdata\u001b[0m\u001b[1;33m[\u001b[0m\u001b[1;34m'time'\u001b[0m\u001b[1;33m]\u001b[0m\u001b[1;33m\u001b[0m\u001b[1;33m\u001b[0m\u001b[0m\n\u001b[0m\u001b[0;32m     28\u001b[0m         \u001b[0mmetrics\u001b[0m\u001b[1;33m[\u001b[0m\u001b[1;34m'time'\u001b[0m\u001b[1;33m]\u001b[0m\u001b[1;33m.\u001b[0m\u001b[0mappend\u001b[0m\u001b[1;33m(\u001b[0m\u001b[0mwall_time\u001b[0m\u001b[1;33m)\u001b[0m\u001b[1;33m\u001b[0m\u001b[1;33m\u001b[0m\u001b[0m\n\u001b[0;32m     29\u001b[0m \u001b[1;33m\u001b[0m\u001b[0m\n",
      "\u001b[1;32m~\\Miniconda3\\envs\\tike\\lib\\site-packages\\numpy\\lib\\npyio.py\u001b[0m in \u001b[0;36m__getitem__\u001b[1;34m(self, key)\u001b[0m\n\u001b[0;32m    264\u001b[0m                 \u001b[1;32mreturn\u001b[0m \u001b[0mself\u001b[0m\u001b[1;33m.\u001b[0m\u001b[0mzip\u001b[0m\u001b[1;33m.\u001b[0m\u001b[0mread\u001b[0m\u001b[1;33m(\u001b[0m\u001b[0mkey\u001b[0m\u001b[1;33m)\u001b[0m\u001b[1;33m\u001b[0m\u001b[1;33m\u001b[0m\u001b[0m\n\u001b[0;32m    265\u001b[0m         \u001b[1;32melse\u001b[0m\u001b[1;33m:\u001b[0m\u001b[1;33m\u001b[0m\u001b[1;33m\u001b[0m\u001b[0m\n\u001b[1;32m--> 266\u001b[1;33m             \u001b[1;32mraise\u001b[0m \u001b[0mKeyError\u001b[0m\u001b[1;33m(\u001b[0m\u001b[1;34m\"%s is not a file in the archive\"\u001b[0m \u001b[1;33m%\u001b[0m \u001b[0mkey\u001b[0m\u001b[1;33m)\u001b[0m\u001b[1;33m\u001b[0m\u001b[1;33m\u001b[0m\u001b[0m\n\u001b[0m\u001b[0;32m    267\u001b[0m \u001b[1;33m\u001b[0m\u001b[0m\n\u001b[0;32m    268\u001b[0m \u001b[1;33m\u001b[0m\u001b[0m\n",
      "\u001b[1;31mKeyError\u001b[0m: 'time is not a file in the archive'"
     ]
    }
   ],
   "source": [
    "import glob\n",
    "from collections import defaultdict\n",
    "\n",
    "import matplotlib.pyplot as plt\n",
    "from tike.view import plot_phase\n",
    "\n",
    "import tifffile\n",
    "\n",
    "all_metrics = {}\n",
    "\n",
    "for algorithm in ['admm', 'combined', 'divided']:\n",
    "    metrics = defaultdict(list)\n",
    "    files = sorted(glob.glob(f'{algorithm}.*.npz'))\n",
    "    wall_time = 0\n",
    "    data0 = []\n",
    "    for i in range(len(files)):\n",
    "        print(files[i])\n",
    "        ii = int(files[i].split('.')[1])\n",
    "        metrics['i'].append(ii)\n",
    "        \n",
    "        data = np.load(files[i])\n",
    "        \n",
    "#         tifffile.imsave(f'cg4/p/{algorithm}.{ii:03d}.tiff', np.angle(data['psi'][0]).astype('float32'))\n",
    "#         tifffile.imsave(f'cg4/a/{algorithm}.{ii:03d}.tiff', np.abs(data['psi'][0]).astype('float32'))\n",
    "        \n",
    "        if i > 0:\n",
    "            wall_time += data['time']\n",
    "        metrics['time'].append(wall_time)\n",
    "        \n",
    "        if 'farplane' in data and 'nearplane' in data:\n",
    "            metrics['primal_farplane'].append(primal_farplane(op, **data))\n",
    "        else:\n",
    "            metrics['primal_farplane'].append(None)\n",
    "        \n",
    "        if 'nearplane' in data:\n",
    "            metrics['primal_nearplane'].append(primal_nearplane(op, **data))\n",
    "        else:\n",
    "            metrics['primal_nearplane'].append(None)\n",
    "        \n",
    "        if 'λ' in data and 'farplane' in data:\n",
    "            metrics['augmented_lagrangian'].append(augmented_lagrangian(op, ρ=0.5, τ=0.5, **data))\n",
    "        else:\n",
    "            metrics['augmented_lagrangian'].append(None)\n",
    "        \n",
    "        for param in ['psi', 'probe']:\n",
    "            if param in data and param in data0:\n",
    "                metrics[f'Δ{param}'].append(relative_error(data0[param], data[param]))\n",
    "            else:\n",
    "                metrics[f'Δ{param}'].append(None)\n",
    "\n",
    "        data0 = data\n",
    "        \n",
    "#         plt.figure()\n",
    "#         plot_phase(data['psi'][0])\n",
    "#         plt.show()\n",
    "\n",
    "    all_metrics[algorithm] = metrics\n",
    "\n",
    "data0.close()\n",
    "data.close()"
   ]
  },
  {
   "cell_type": "markdown",
   "metadata": {},
   "source": [
    "## Plot the metrics"
   ]
  },
  {
   "cell_type": "code",
   "execution_count": null,
   "metadata": {
    "scrolled": false
   },
   "outputs": [],
   "source": [
    "import matplotlib.pyplot as plt\n",
    "\n",
    "for key in all_metrics['divided'].keys():\n",
    "    if key in ['i', 'time']:\n",
    "        continue\n",
    "    plt.figure()\n",
    "    ax1 = plt.subplot(1, 2, 1)\n",
    "    ax2 = plt.subplot(1, 2, 2)\n",
    "    l = []\n",
    "    for algorithm in ['admm', 'divided', 'combined']:\n",
    "        if key in  all_metrics[algorithm].keys():\n",
    "            ax1.semilogy(\n",
    "                np.array(all_metrics[algorithm]['time']) / 60, all_metrics[algorithm][key],\n",
    "            )\n",
    "            ax2.semilogy(\n",
    "                np.array(all_metrics[algorithm]['i']), all_metrics[algorithm][key],\n",
    "            )\n",
    "            l.append(algorithm)\n",
    "    plt.legend(l)\n",
    "    plt.suptitle(key)\n",
    "    ax1.set_xlabel('time [m]')\n",
    "    ax2.set_xlabel('iteration')\n",
    "    plt.tight_layout()\n",
    "    plt.subplots_adjust(top=0.9)\n",
    "    plt.savefig(f'{key}.svg')\n",
    "plt.show()"
   ]
  },
  {
   "cell_type": "code",
   "execution_count": null,
   "metadata": {},
   "outputs": [],
   "source": []
  }
 ],
 "metadata": {
  "kernelspec": {
   "display_name": "Python [conda env:tike]",
   "language": "python",
   "name": "conda-env-tike-py"
  },
  "language_info": {
   "codemirror_mode": {
    "name": "ipython",
    "version": 3
   },
   "file_extension": ".py",
   "mimetype": "text/x-python",
   "name": "python",
   "nbconvert_exporter": "python",
   "pygments_lexer": "ipython3",
   "version": "3.6.10"
  }
 },
 "nbformat": 4,
 "nbformat_minor": 4
}
